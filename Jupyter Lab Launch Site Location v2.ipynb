{
 "cells": [
  {
   "cell_type": "markdown",
   "id": "ab3a0c00-9d93-4450-9b28-ec57f226df99",
   "metadata": {},
   "source": [
    "<p style=\"text-align:center\">\n",
    "    <a href=\"https://skills.network\" target=\"_blank\">\n",
    "    <img src=\"https://cf-courses-data.s3.us.cloud-object-storage.appdomain.cloud/assets/logos/SN_web_lightmode.png\" width=\"200\" alt=\"Skills Network Logo\">\n",
    "    </a>\n",
    "</p>\n"
   ]
  },
  {
   "cell_type": "markdown",
   "id": "104f92a7-66e6-4de7-980d-cd5b5d98dbe7",
   "metadata": {},
   "source": [
    "# **Launch Sites Locations Analysis with Folium**\n"
   ]
  },
  {
   "cell_type": "markdown",
   "id": "fa561905-3ff5-43cb-85db-e09f95908127",
   "metadata": {},
   "source": [
    "Estimated time needed: **40** minutes\n"
   ]
  },
  {
   "cell_type": "markdown",
   "id": "f7b3bbb8-8644-4e72-8724-0149b37d04c0",
   "metadata": {},
   "source": [
    "打ち上げ成功率は、ペイロード質量、軌道タイプなどの多くの要因に依存する可能性があります。また、発射サイトの場所と近接性、つまりロケットの軌跡の初期位置にも依存する場合があります。打ち上げサイトを構築するための最適な場所を見つけるには、確かに多くの要因が含まれ、既存の打ち上げサイトの場所を分析することでいくつかの要因を発見できることを願っています。\n"
   ]
  },
  {
   "cell_type": "markdown",
   "id": "143d34c0-767f-4cdc-9f52-46710821cc95",
   "metadata": {},
   "source": [
    "以前の探索データ分析ラボでは、「Matplotlib」と「Seaborn」を使用してSpaceX起動データセットを視覚化し、起動サイトと成功率の間にいくつかの予備的な相関関係を発見しました。このラボでは、「Folium」を使用して、よりインタラクティブな視覚分析を実行します。\n"
   ]
  },
  {
   "cell_type": "markdown",
   "id": "e9721fe2-e459-42c1-b4cf-832a11f1b3af",
   "metadata": {},
   "source": [
    "## Objectives\n"
   ]
  },
  {
   "cell_type": "markdown",
   "id": "db10f094-28d5-4166-be6e-6de06cc9fbea",
   "metadata": {},
   "source": [
    "このラボには、次のタスクが含まれています。\n",
    " - **タスク1：**マップ上のすべての起動サイトをマーク\n",
    " - **タスク2：**マップ上の各サイトの成功/失敗した起動にマーク\n",
    " - **タスク3：**発射サイト間の距離を近接して計算します\n",
    "\n",
    "上記のタスクを完了した後、起動場に関する地理的なパターンを見つけることができるはずです。\n"
   ]
  },
  {
   "cell_type": "markdown",
   "id": "f8ece203-b746-4247-b936-8aa610628e17",
   "metadata": {},
   "source": [
    "Let's first import required Python packages for this lab:\n"
   ]
  },
  {
   "cell_type": "code",
   "execution_count": null,
   "id": "34cecee1-02a1-4ad8-8486-26f0f01c4524",
   "metadata": {},
   "outputs": [],
   "source": [
    "!pip3 install folium\n",
    "!pip3 install wget\n",
    "# !pip3 install pandas"
   ]
  },
  {
   "cell_type": "code",
   "execution_count": 3,
   "id": "121be5e4-68d0-4f29-a9b1-7f28cda92dbe",
   "metadata": {},
   "outputs": [],
   "source": [
    "import folium\n",
    "import wget\n",
    "import pandas as pd"
   ]
  },
  {
   "cell_type": "code",
   "execution_count": 4,
   "id": "36d95231-0c75-4794-8b7a-a34a6f3cb983",
   "metadata": {},
   "outputs": [],
   "source": [
    "# Import folium MarkerCluster plugin\n",
    "from folium.plugins import MarkerCluster\n",
    "# Import folium MousePosition plugin\n",
    "from folium.plugins import MousePosition\n",
    "# Import folium DivIcon plugin\n",
    "from folium.features import DivIcon"
   ]
  },
  {
   "cell_type": "markdown",
   "id": "adc3df79-c696-496f-9db9-66e8b99c9652",
   "metadata": {},
   "source": [
    "If you need to refresh your memory about folium, you may download and refer to this previous folium lab:\n"
   ]
  },
  {
   "cell_type": "markdown",
   "id": "9ee177e3-b97d-4c7a-ad16-fe4e3cc238dd",
   "metadata": {},
   "source": [
    "[Generating Maps with Python](https://cf-courses-data.s3.us.cloud-object-storage.appdomain.cloud/IBM-DS0321EN-SkillsNetwork/labs/module_3/DV0101EN-3-5-1-Generating-Maps-in-Python-py-v2.0.ipynb)\n"
   ]
  },
  {
   "cell_type": "markdown",
   "id": "ad8702e1-43f5-4861-8532-710880676120",
   "metadata": {},
   "source": [
    "## Task 1: Mark all launch sites on a map\n"
   ]
  },
  {
   "cell_type": "markdown",
   "id": "37ad5388-6da5-45cb-b303-38b236e41229",
   "metadata": {},
   "source": [
    "まず、サイトの緯度と経度の座標を使用して、各サイトの位置を地図上に追加してみましょう\n"
   ]
  },
  {
   "cell_type": "markdown",
   "id": "deaf7e16-bf0d-4c4d-a10c-1eec47600f0b",
   "metadata": {},
   "source": [
    "「spacex_launch_geo.csv`という名前の次のデータセットは、各サイトに緯度と経度が追加された拡張データセットです。\n"
   ]
  },
  {
   "cell_type": "code",
   "execution_count": 5,
   "id": "6ead3fd2-f2ca-4962-84dd-ff715d1ff820",
   "metadata": {},
   "outputs": [],
   "source": [
    "#「spacex_launch_geo.csv」をダウンロードして読み取ります\n"
   ]
  },
  {
   "cell_type": "code",
   "execution_count": 6,
   "metadata": {},
   "outputs": [],
   "source": [
    "url = 'https://cf-courses-data.s3.us.cloud-object-storage.appdomain.cloud/IBM-DS0321EN-SkillsNetwork/datasets/spacex_launch_geo.csv'\n",
    "spacex_df= pd.read_csv(url)"
   ]
  },
  {
   "cell_type": "code",
   "execution_count": null,
   "metadata": {},
   "outputs": [],
   "source": [
    "spacex_df.head()"
   ]
  },
  {
   "cell_type": "markdown",
   "id": "8a3d0c96-1fba-49c8-b70a-6d4d2d235c3f",
   "metadata": {},
   "source": [
    "ここで、各サイトの座標を見てみましょう。\n"
   ]
  },
  {
   "cell_type": "code",
   "execution_count": null,
   "id": "08e6f532-f959-4fa9-a299-99adc4373954",
   "metadata": {},
   "outputs": [],
   "source": [
    "# Select relevant sub-columns: `Launch Site`, `Lat(Latitude)`, `Long(Longitude)`, `class`\n",
    "spacex_df = spacex_df[['Launch Site', 'Lat', 'Long', 'class']]\n",
    "launch_sites_df = spacex_df.groupby(['Launch Site'], as_index=False).first()\n",
    "launch_sites_df = launch_sites_df[['Launch Site', 'Lat', 'Long']]\n",
    "launch_sites_df"
   ]
  },
  {
   "cell_type": "markdown",
   "id": "e0aaecaf-8ed2-45dd-9a9d-76575570caca",
   "metadata": {},
   "source": [
    "上記の座標は単なる数字であり、発射場がどこにあるのかについて直感的な洞察を与えることはできません。地理が得意であれば、それらの数字を頭の中で直接解釈することができます。そうでない場合でも、それは問題ありません。それらの場所を地図上にピン留めして視覚化してみましょう。"
   ]
  },
  {
   "cell_type": "markdown",
   "id": "5ab187ca-fbc1-4165-ad3e-6096eea56281",
   "metadata": {},
   "source": [
    "まず最初に、テキサス州ヒューストンにある NASA ジョンソン宇宙センターを中心位置として、フォリウム「Map」オブジェクトを作成する必要があります。"
   ]
  },
  {
   "cell_type": "code",
   "execution_count": 9,
   "id": "1da630b5-fd74-4b04-a2af-85487a4b2a54",
   "metadata": {},
   "outputs": [],
   "source": [
    "# Start location is NASA Johnson Space Center\n",
    "nasa_coordinate = [29.559684888503615, -95.0830971930759]\n",
    "site_map = folium.Map(location=nasa_coordinate, zoom_start=10)"
   ]
  },
  {
   "cell_type": "markdown",
   "metadata": {},
   "source": []
  },
  {
   "cell_type": "markdown",
   "id": "520d1d3f-a87d-4b2c-bb47-28af6d9d89e3",
   "metadata": {},
   "source": [
    "「folium.circle」を使用して、特定の座標にテキストラベルを備えた強調表示された円領域を追加できます。例えば、"
   ]
  },
  {
   "cell_type": "code",
   "execution_count": null,
   "id": "e5082a09-d77e-47e8-8275-9ffed8f42257",
   "metadata": {},
   "outputs": [],
   "source": [
    "# Create a blue circle at NASA Johnson Space Center's coordinate with a popup label showing its name\n",
    "circle = folium.Circle(nasa_coordinate, radius=1000, color='#d35400', fill=True).add_child(folium.Popup('NASA Johnson Space Center'))\n",
    "# Create a blue circle at NASA Johnson Space Center's coordinate with a icon showing its name\n",
    "marker = folium.map.Marker(\n",
    "    nasa_coordinate,\n",
    "    # Create an icon as a text label\n",
    "    icon=DivIcon(\n",
    "        icon_size=(20,20),\n",
    "        icon_anchor=(0,0),\n",
    "        html='<div style=\"font-size: 12; color:#d35400;\"><b>%s</b></div>' % 'NASA JSC',\n",
    "        )\n",
    "    )\n",
    "site_map.add_child(circle)\n",
    "site_map.add_child(marker)"
   ]
  },
  {
   "cell_type": "markdown",
   "id": "813c3f0b-91fb-4edf-abf3-1f2f428748fb",
   "metadata": {},
   "source": [
    "そして、ヒューストン市の近くに小さな黄色の円を見つける必要があり、ズームインしてより大きな円を見ることができます。\n"
   ]
  },
  {
   "cell_type": "markdown",
   "id": "7b11aeba-8899-46ca-9bc0-5c9f06fa596f",
   "metadata": {},
   "source": [
    "次に、データフレーム「launch_sites」にある各起動サイトの円を追加しましょう\n"
   ]
  },
  {
   "cell_type": "markdown",
   "id": "f82b878d-86e6-4733-ade8-1b8467732384",
   "metadata": {},
   "source": [
    "_TODO:_ サイト マップ上の各打ち上げサイトに `folium.Circle` と `folium.Marker` を作成して追加します"
   ]
  },
  {
   "cell_type": "markdown",
   "id": "40735248-94bb-4c25-b654-11b160cafe61",
   "metadata": {},
   "source": [
    "An example of folium.Circle:\n"
   ]
  },
  {
   "cell_type": "markdown",
   "id": "7b06bd55-86c8-4ac4-935e-95c7ff595da0",
   "metadata": {},
   "source": [
    "`folium.Circle(coordinate, radius=1000, color='#000000', fill=True).add_child(folium.Popup(...))`\n"
   ]
  },
  {
   "cell_type": "markdown",
   "id": "d0c25fc2-720f-4707-bb34-6ac8c3a8d65e",
   "metadata": {},
   "source": [
    "An example of folium.Marker:\n"
   ]
  },
  {
   "cell_type": "markdown",
   "id": "a9518403-1e98-4e75-acf2-31df4122d339",
   "metadata": {},
   "source": [
    "`folium.map.Marker(coordinate, icon=DivIcon(icon_size=(20,20),icon_anchor=(0,0), html='<div style=\"font-size: 12; color:#d35400;\"><b>%s</b></div>' % 'label', ))`\n"
   ]
  },
  {
   "cell_type": "code",
   "execution_count": 11,
   "id": "0fea1de0-77de-4436-9702-27612cb4d3bc",
   "metadata": {},
   "outputs": [],
   "source": [
    "# Initial the map\n",
    "site_map = folium.Map(location=nasa_coordinate, zoom_start=5)\n",
    "# For each launch site, add a Circle object based on its coordinate (Lat, Long) values. In addition, add Launch site name as a popup label\n"
   ]
  },
  {
   "cell_type": "markdown",
   "id": "d2951e90-1a35-4568-9050-4e41eeb40744",
   "metadata": {},
   "source": [
    "The generated map with marked launch sites should look similar to the following:\n"
   ]
  },
  {
   "cell_type": "markdown",
   "id": "37e279ff-38f7-4c6a-a44a-8d1c6495b621",
   "metadata": {},
   "source": [
    "<center>\n",
    "    <img src=\"https://cf-courses-data.s3.us.cloud-object-storage.appdomain.cloud/IBM-DS0321EN-SkillsNetwork/labs/module_3/images/launch_site_markers.png\">\n",
    "</center>\n"
   ]
  },
  {
   "cell_type": "markdown",
   "id": "fd8b31ca-a113-4d67-a35c-5f84411ebbc8",
   "metadata": {},
   "source": [
    "これで、マークされた領域をズームイン/アウトしてマップを探索できます\n",
    "、そして、次の質問に答えてみてください。\n",
    " -すべての発射サイトは赤道線に近いですか？\n",
    " -すべての打ち上げサイトは海岸に非常に近接していますか？\n",
    "\n",
    "また、あなたの発見を説明してみてください。"
   ]
  },
  {
   "cell_type": "markdown",
   "id": "0f2083d1-3a8c-4a76-86a9-9b3ae2620d42",
   "metadata": {},
   "source": [
    "# Task 2: Mark the success/failed launches for each site on the map\n"
   ]
  },
  {
   "cell_type": "markdown",
   "id": "723fab7a-e343-4f12-bba8-2ec7ad98d896",
   "metadata": {},
   "source": [
    "次に、各サイトの起動結果を追加してマップを強化し、どのサイトが高い成功率を持っているかを見てみましょう。\n",
    "Data Frame SpaceX_DFには詳細な起動レコードがあり、「クラス」列はこの起動が成功したかどうかを示していることを思い出してください。\n"
   ]
  },
  {
   "cell_type": "code",
   "execution_count": null,
   "id": "5e645f36-fa98-4171-b31e-6c78abb35a64",
   "metadata": {},
   "outputs": [],
   "source": [
    "spacex_df.tail(10)"
   ]
  },
  {
   "cell_type": "markdown",
   "id": "4d7a2d86-fe18-4e83-937d-a574e67985d4",
   "metadata": {},
   "source": [
    "次に、すべての起動レコードのマーカーを作成しましょう。 \n",
    "打ち上げが成功した場合は「(class=1)」、緑色のマーカーを使用し、打ち上げが失敗した場合は赤色のマーカー「(class=0)」を使用します。"
   ]
  },
  {
   "cell_type": "markdown",
   "id": "8b802ae3-87f2-494d-a630-69bbc027205c",
   "metadata": {},
   "source": [
    "発売は4つの発売サイトのいずれかでのみ発生することに注意してください。つまり、多くの発売レコードにはまったく同じ座標があります。マーカークラスターは、同じ座標を持つ多くのマーカーを含むマップを簡素化する良い方法です。"
   ]
  },
  {
   "cell_type": "markdown",
   "id": "970cbc0d-3071-4e19-bce8-f459fb39cbf6",
   "metadata": {},
   "source": [
    "最初に「MarkerCluster」オブジェクトを作成しましょう\n"
   ]
  },
  {
   "cell_type": "code",
   "execution_count": 13,
   "id": "da608645-12b7-4a44-9aac-e234ca01ff3d",
   "metadata": {},
   "outputs": [],
   "source": [
    "marker_cluster = MarkerCluster()\n"
   ]
  },
  {
   "cell_type": "markdown",
   "id": "3cf267f2-c3b8-4ebd-aaa0-b2a5e5bcd842",
   "metadata": {},
   "source": [
    "_todo：_「launch_sites」 `marker_color`と呼ばれる` launch_sites` dataframeに新しい列を作成して、「クラス」値に基づいてマーカー色を保存します\n"
   ]
  },
  {
   "cell_type": "code",
   "execution_count": null,
   "metadata": {},
   "outputs": [],
   "source": [
    "spacex_df.head()"
   ]
  },
  {
   "cell_type": "code",
   "execution_count": null,
   "id": "74c82d8f-2fd7-463a-9841-4233572aa5db",
   "metadata": {},
   "outputs": [],
   "source": [
    "# 発射結果を割り当てる機能\n",
    "def assign_marker_color(launch_outcome):\n",
    "    if launch_outcome == 1:\n",
    "        return 'green'\n",
    "    else:\n",
    "        return 'red'\n",
    "    \n",
    "spacex_df['marker_color'] = spacex_df['class'].apply(assign_marker_color)\n",
    "spacex_df.tail(10)"
   ]
  },
  {
   "cell_type": "markdown",
   "id": "ce9e28eb-2453-4c52-87a6-008c975edc82",
   "metadata": {},
   "source": [
    "_todo：_起動の結果ごとに `Spacex_df`データフレームで、` folium.marker`を `marker_cluster`に追加します\n"
   ]
  },
  {
   "cell_type": "markdown",
   "metadata": {},
   "source": []
  },
  {
   "cell_type": "code",
   "execution_count": null,
   "metadata": {},
   "outputs": [],
   "source": []
  },
  {
   "cell_type": "code",
   "execution_count": null,
   "id": "56152e00-bf2e-4a0f-8502-5f35dbe38088",
   "metadata": {},
   "outputs": [],
   "source": [
    "# marker_clusterを現在のsite_mapに追加します\n",
    "site_map.add_child(marker_cluster)\n",
    "\n",
    "# spacex_df データ フレームの各行\n",
    "# 座標を使用して Marker オブジェクトを作成します\n",
    "# そして、この起動が成功したか失敗したかを示すためにマーカーのアイコン プロパティをカスタマイズします。 \n",
    "# 例: icon=folium.Icon(color='white', icon_color=row['marker_color']\n",
    "for index, record in spacex_df.iterrows():\n",
    "    # TODO: Create and add a Marker cluster to the site map\n",
    "    # marker = folium.Marker(...)\n",
    "    coordinate = [record['Lat'], record['Long']]\n",
    "    marker = folium.Marker(coordinate,\n",
    "                           icon = folium.Icon(color='white', icon_color=record['marker_color'])\n",
    "    )\n",
    "    marker_cluster.add_child(marker)\n",
    "\n",
    "site_map"
   ]
  },
  {
   "cell_type": "code",
   "execution_count": null,
   "metadata": {},
   "outputs": [],
   "source": [
    "# Add marker_cluster to current site_map\n",
    "site_map.add_child(marker_cluster)\n",
    "\n",
    "# for each row in spacex_df data frame\n",
    "# create a Marker object with its coordinate\n",
    "# and customize the Marker's icon property to indicate if this launch was successed or failed, \n",
    "# e.g., icon=folium.Icon(color='white', icon_color=row['marker_color']\n",
    "for index, row in spacex_df.iterrows():\n",
    "    # create and add a Marker cluster to the site map\n",
    "    coordinate = [row['Lat'], row['Long']]\n",
    "    folium.map.Marker(coordinate, icon=folium.Icon(color='white',icon_color=row['marker_color'])).add_to(marker_cluster)\n",
    "site_map"
   ]
  },
  {
   "cell_type": "code",
   "execution_count": null,
   "metadata": {},
   "outputs": [],
   "source": []
  },
  {
   "cell_type": "markdown",
   "id": "ed70d7d8-bec9-455a-8402-3b4e8545e8ca",
   "metadata": {},
   "source": [
    "更新されたマップは次のスクリーンショットのようになります。\n"
   ]
  },
  {
   "cell_type": "markdown",
   "id": "d5619f25-9bad-4abc-b0b4-d37f13aabd40",
   "metadata": {},
   "source": [
    "<center>\n",
    "    <img src=\"https://cf-courses-data.s3.us.cloud-object-storage.appdomain.cloud/IBM-DS0321EN-SkillsNetwork/labs/module_3/images/launch_site_marker_cluster.png\">\n",
    "</center>\n"
   ]
  },
  {
   "cell_type": "markdown",
   "id": "1a552934-26cf-4ae3-8177-3af33364f470",
   "metadata": {},
   "source": [
    "<center>\n",
    "    <img src=\"https://cf-courses-data.s3.us.cloud-object-storage.appdomain.cloud/IBM-DS0321EN-SkillsNetwork/labs/module_3/images/launch_site_marker_cluster_zoomed.png\">\n",
    "</center>\n"
   ]
  },
  {
   "cell_type": "markdown",
   "id": "59ee19cf-e988-4c94-bc51-3b1978b1080f",
   "metadata": {},
   "source": [
    "マーカー クラスター内の色でラベル付けされたマーカーから、どの発射地点が比較的高い成功率を持っているかを簡単に識別できるはずです。"
   ]
  },
  {
   "cell_type": "markdown",
   "id": "c8c9fdb5-d10b-4eec-9f6c-85109d88462e",
   "metadata": {},
   "source": [
    "＃タスク3：発射サイト間の距離を近接して計算します\n"
   ]
  },
  {
   "cell_type": "markdown",
   "id": "7033332b-cfad-4630-b0f8-d49d7060ee1e",
   "metadata": {},
   "source": [
    "次に、起動サイトの近接性を調査して分析する必要があります。\n"
   ]
  },
  {
   "cell_type": "markdown",
   "id": "09917545-c6df-4103-a8b6-c4634ea69445",
   "metadata": {},
   "source": [
    "最初にマップに「マウスポジション」を追加して、マップ上のポイントの上にマウスの座標を取得しましょう。そのため、マップを探索している間、興味のあるポイント（鉄道など）の座標を簡単に見つけることができます\n"
   ]
  },
  {
   "cell_type": "code",
   "execution_count": null,
   "id": "f71f72fa-d966-4c37-9fe8-9e8f73bd4640",
   "metadata": {},
   "outputs": [],
   "source": [
    "# Add Mouse Position to get the coordinate (Lat, Long) for a mouse over on the map\n",
    "formatter = \"function(num) {return L.Util.formatNum(num, 5);};\"\n",
    "mouse_position = MousePosition(\n",
    "    position='topright',\n",
    "    separator=' Long: ',\n",
    "    empty_string='NaN',\n",
    "    lng_first=False,\n",
    "    num_digits=20,\n",
    "    prefix='Lat:',\n",
    "    lat_formatter=formatter,\n",
    "    lng_formatter=formatter,\n",
    ")\n",
    "\n",
    "site_map.add_child(mouse_position)\n",
    "site_map"
   ]
  },
  {
   "cell_type": "code",
   "execution_count": null,
   "metadata": {},
   "outputs": [],
   "source": []
  },
  {
   "cell_type": "markdown",
   "id": "e0a80ab0-36c8-40e7-8201-bdc4dc3613ef",
   "metadata": {},
   "source": [
    "ローンチサイトにズームインして、その近接性を調べて、鉄道、高速道路、海岸線などを簡単に見つけることができるかどうかを確認します。マウスをこれらのポイントに移動し、座標（左上に表示）をマークダウンして起動場までの距離。\n"
   ]
  },
  {
   "cell_type": "markdown",
   "id": "5a7969e6-e0bc-4a84-9e7f-7bbcd66d547c",
   "metadata": {},
   "source": [
    "次の方法を使用して、「LAT」と「長い」値に基づいて、マップ上の2つのポイント間の距離を計算できます。\n"
   ]
  },
  {
   "cell_type": "code",
   "execution_count": 20,
   "id": "cc62783d-8a40-44ea-83c4-0bd2984481b7",
   "metadata": {},
   "outputs": [],
   "source": [
    "from math import sin, cos, sqrt, atan2, radians\n",
    "\n",
    "def calculate_distance(lat1, lon1, lat2, lon2):\n",
    "    # approximate radius of earth in km\n",
    "    R = 6373.0\n",
    "\n",
    "    lat1 = radians(lat1)\n",
    "    lon1 = radians(lon1)\n",
    "    lat2 = radians(lat2)\n",
    "    lon2 = radians(lon2)\n",
    "\n",
    "    dlon = lon2 - lon1\n",
    "    dlat = lat2 - lat1\n",
    "\n",
    "    a = sin(dlat / 2)**2 + cos(lat1) * cos(lat2) * sin(dlon / 2)**2\n",
    "    c = 2 * atan2(sqrt(a), sqrt(1 - a))\n",
    "\n",
    "    distance = R * c\n",
    "    return distance"
   ]
  },
  {
   "cell_type": "code",
   "execution_count": null,
   "metadata": {},
   "outputs": [],
   "source": []
  },
  {
   "cell_type": "markdown",
   "id": "2669e9e2-cff9-4555-bca1-9763bb4ecfad",
   "metadata": {},
   "source": [
    "_TODO:_ MousePosition を使用して最も近い海岸線上の点をマークし、海岸線の点と発射場所の間の距離を計算します。"
   ]
  },
  {
   "cell_type": "code",
   "execution_count": null,
   "id": "650f1fe7-5923-481b-b469-fc678e965c98",
   "metadata": {},
   "outputs": [],
   "source": [
    "#クローゼットの海岸線の座標を見つけます\n",
    "#例えば、：lat：28.56367 LON：-80.57163\n",
    "# distance_coastline = calculate_distance(28.56318, -80.5768, 28.56367, -80.57163)\n",
    "\n",
    "launch_site_lat = 28.56318\n",
    "launch_site_lon = -80.5768\n",
    "coastline_lat = 28.56367\n",
    "coastline_lon = -80.57163\n",
    "distance_coastline = calculate_distance(launch_site_lat, launch_site_lon, coastline_lat, coastline_lon)\n",
    "print(distance_coastline,' km')"
   ]
  },
  {
   "cell_type": "markdown",
   "id": "1aa3b122-cb5d-46c9-8db9-694b3164a3f6",
   "metadata": {},
   "source": [
    "_todo：_座標を取得した後、「folium.marker」を作成して距離を表示します"
   ]
  },
  {
   "cell_type": "code",
   "execution_count": null,
   "metadata": {},
   "outputs": [],
   "source": [
    "distance_coastline"
   ]
  },
  {
   "cell_type": "code",
   "execution_count": null,
   "metadata": {},
   "outputs": [],
   "source": []
  },
  {
   "cell_type": "code",
   "execution_count": null,
   "id": "718b2151-4830-431e-ba85-ca687dd249d9",
   "metadata": {},
   "outputs": [],
   "source": [
    "#地図上の選択した最も近い海岸線ポイントにfolium.markerを作成して追加する\n",
    "#アイコンプロパティを使用して、海岸線ポイントと起動サイト間の距離を表示します \n",
    "#例えば\n",
    "distance_marker = folium.Marker(\n",
    "   coordinate,\n",
    "   icon=DivIcon(\n",
    "       icon_size=(20,20),\n",
    "       icon_anchor=(0,0),\n",
    "       html='<div style=\"font-size: 12; color:#d35400;\"><b>%s</b></div>' % \"{:10.2f} KM\".format(distance_coastline),\n",
    "       )\n",
    "   )\n",
    "\n",
    "site_map.add_child(distance_marker)"
   ]
  },
  {
   "cell_type": "markdown",
   "id": "5a7b3eb1-bd8c-4fff-bdcc-5e7c27fef882",
   "metadata": {},
   "source": [
    "_todo：_起動場の間に選択された海岸線ポイントに「ポリライン」を描く\n"
   ]
  },
  {
   "cell_type": "code",
   "execution_count": null,
   "id": "0b2f2533-8dae-47cd-966e-3bd9daa4a667",
   "metadata": {},
   "outputs": [],
   "source": [
    "# 海岸線座標を使用して「folium.polylin」オブジェクトを作成し、サイト座標を起動します\n",
    "# lines=folium.PolyLine(locations=coordinates, weight=1)\n",
    "# site_map.add_child(lines)\n",
    "\n",
    "coordinates = [[launch_site_lat,launch_site_lon],[coastline_lat,coastline_lon]]\n",
    "lines=folium.PolyLine(locations=coordinates, weight=1)\n",
    "site_map.add_child(lines)"
   ]
  },
  {
   "cell_type": "markdown",
   "id": "1b2b7360-b752-4764-9de8-77c0d05254f3",
   "metadata": {},
   "source": [
    "Your updated map with distance line should look like the following screenshot:\n"
   ]
  },
  {
   "cell_type": "markdown",
   "id": "7a8604b1-0727-4c27-86bd-15390257dafa",
   "metadata": {},
   "source": [
    "<center>\n",
    "    <img src=\"https://cf-courses-data.s3.us.cloud-object-storage.appdomain.cloud/IBM-DS0321EN-SkillsNetwork/labs/module_3/images/launch_site_marker_distance.png\">\n",
    "</center>\n"
   ]
  },
  {
   "cell_type": "markdown",
   "id": "e555a1bf-98f8-4d87-b311-ba49f6b18c8d",
   "metadata": {},
   "source": [
    "_tero：_同様に、ローンチサイトの間に最も近い都市、鉄道、高速道路などに線を引くことができます。「マウスポジション」を使用して、最初にマップ上の座標を見つける必要があります\n"
   ]
  },
  {
   "cell_type": "markdown",
   "id": "0648eaec-4ff4-410e-96ec-0aff657b2d20",
   "metadata": {},
   "source": [
    "A railway map symbol may look like this:\n"
   ]
  },
  {
   "cell_type": "markdown",
   "id": "9f051ed3-8267-4412-baa1-9cb42933029c",
   "metadata": {},
   "source": [
    "<center>\n",
    "    <img src=\"https://cf-courses-data.s3.us.cloud-object-storage.appdomain.cloud/IBM-DS0321EN-SkillsNetwork/labs/module_3/images/railway.png\">\n",
    "</center>\n"
   ]
  },
  {
   "cell_type": "code",
   "execution_count": 25,
   "metadata": {},
   "outputs": [],
   "source": [
    "closest_highway = 28.56335, -80.57085\n",
    "closest_railroad = 28.57206, -80.58525\n",
    "closest_city = 28.10473, -80.64531"
   ]
  },
  {
   "cell_type": "code",
   "execution_count": null,
   "metadata": {},
   "outputs": [],
   "source": [
    "distance_highway = calculate_distance(launch_site_lat, launch_site_lon, closest_highway[0], closest_highway[1])\n",
    "print('distance_highway =',distance_highway, ' km')\n",
    "distance_railroad = calculate_distance(launch_site_lat, launch_site_lon, closest_railroad[0], closest_railroad[1])\n",
    "print('distance_railroad =',distance_railroad, ' km')\n",
    "distance_city = calculate_distance(launch_site_lat, launch_site_lon, closest_city[0], closest_city[1])\n",
    "print('distance_city =',distance_city, ' km')"
   ]
  },
  {
   "cell_type": "code",
   "execution_count": null,
   "metadata": {},
   "outputs": [],
   "source": [
    "# closest highway marker\n",
    "distance_marker = folium.Marker(\n",
    "   closest_highway,\n",
    "   icon=DivIcon(\n",
    "       icon_size=(20,20),\n",
    "       icon_anchor=(0,0),\n",
    "       html='<div style=\"font-size: 12; color:#d35400;\"><b>%s</b></div>' % \"{:10.2f} KM\".format(distance_highway),\n",
    "       )\n",
    "   )\n",
    "site_map.add_child(distance_marker)\n",
    "# closest highway line\n",
    "coordinates = [[launch_site_lat,launch_site_lon],closest_highway]\n",
    "lines=folium.PolyLine(locations=coordinates, weight=1)\n",
    "site_map.add_child(lines)\n",
    "\n",
    "# closest railroad marker\n",
    "distance_marker = folium.Marker(\n",
    "   closest_railroad,\n",
    "   icon=DivIcon(\n",
    "       icon_size=(20,20),\n",
    "       icon_anchor=(0,0),\n",
    "       html='<div style=\"font-size: 12; color:#d35400;\"><b>%s</b></div>' % \"{:10.2f} KM\".format(distance_railroad),\n",
    "       )\n",
    "   )\n",
    "site_map.add_child(distance_marker)\n",
    "# closest railroad line\n",
    "coordinates = [[launch_site_lat,launch_site_lon],closest_railroad]\n",
    "lines=folium.PolyLine(locations=coordinates, weight=1)\n",
    "site_map.add_child(lines)\n",
    "\n",
    "# closest city marker\n",
    "distance_marker = folium.Marker(\n",
    "   closest_city,\n",
    "   icon=DivIcon(\n",
    "       icon_size=(20,20),\n",
    "       icon_anchor=(0,0),\n",
    "       html='<div style=\"font-size: 12; color:#d35400;\"><b>%s</b></div>' % \"{:10.2f} KM\".format(distance_city),\n",
    "       )\n",
    "   )\n",
    "site_map.add_child(distance_marker)\n",
    "# closest city line\n",
    "coordinates = [[launch_site_lat,launch_site_lon],closest_city]\n",
    "lines=folium.PolyLine(locations=coordinates, weight=1)\n",
    "site_map.add_child(lines)"
   ]
  },
  {
   "cell_type": "code",
   "execution_count": null,
   "metadata": {},
   "outputs": [],
   "source": []
  },
  {
   "cell_type": "markdown",
   "id": "c5e0ce14-72dc-404f-a9a9-15b4fb12e086",
   "metadata": {},
   "source": [
    "A highway map symbol may look like this:\n"
   ]
  },
  {
   "cell_type": "markdown",
   "id": "81c367ec-deb6-4a06-bc1e-baaae6bf36f3",
   "metadata": {},
   "source": [
    "<center>\n",
    "    <img src=\"https://cf-courses-data.s3.us.cloud-object-storage.appdomain.cloud/IBM-DS0321EN-SkillsNetwork/labs/module_3/images/highway.png\">\n",
    "</center>\n"
   ]
  },
  {
   "cell_type": "markdown",
   "id": "9f4b4d06-0f79-4818-a00a-b609ca68da6d",
   "metadata": {},
   "source": [
    "A city map symbol may look like this:\n"
   ]
  },
  {
   "cell_type": "markdown",
   "id": "a06874a7-47bc-4a17-a3c1-f88dcb1631be",
   "metadata": {},
   "source": [
    "<center>\n",
    "    <img src=\"https://cf-courses-data.s3.us.cloud-object-storage.appdomain.cloud/IBM-DS0321EN-SkillsNetwork/labs/module_3/images/city.png\">\n",
    "</center>\n"
   ]
  },
  {
   "cell_type": "markdown",
   "id": "0f4bc90e-862a-4854-bdbf-d711afbc2abb",
   "metadata": {},
   "source": [
    "After you plot distance lines to the proximities, you can answer the following questions easily:\n",
    "- Are launch sites in close proximity to railways?\n",
    "- Are launch sites in close proximity to highways?\n",
    "- Are launch sites in close proximity to coastline?\n",
    "- Do launch sites keep certain distance away from cities?\n",
    "\n",
    "Also please try to explain your findings.\n"
   ]
  },
  {
   "cell_type": "markdown",
   "id": "c30d72d1-8b41-4c90-a0e3-912aba038a22",
   "metadata": {},
   "source": [
    "# Next Steps:\n",
    "\n",
    "Now you have discovered many interesting insights related to the launch sites' location using folium, in a very interactive way. Next, you will need to build a dashboard using Ploty Dash on detailed launch records.\n"
   ]
  },
  {
   "cell_type": "markdown",
   "id": "21cc2dd3-fe67-4311-967b-760a5fc6152b",
   "metadata": {},
   "source": [
    "## Authors\n"
   ]
  },
  {
   "cell_type": "markdown",
   "id": "d85b3f02-ae36-4f02-a868-0b7e04e73563",
   "metadata": {},
   "source": [
    "[Yan Luo](https://www.linkedin.com/in/yan-luo-96288783/)\n"
   ]
  },
  {
   "cell_type": "markdown",
   "id": "e75088cf-b941-4d6e-8f42-a25181602a85",
   "metadata": {},
   "source": [
    "### Other Contributors\n"
   ]
  },
  {
   "cell_type": "markdown",
   "id": "3ea74590-fd2e-482f-9162-51883b5803d6",
   "metadata": {},
   "source": [
    "Joseph Santarcangelo\n"
   ]
  },
  {
   "cell_type": "markdown",
   "id": "4f9ae46a-d618-4f3c-a803-5d334c5a43e0",
   "metadata": {},
   "source": [
    "## Change Log\n"
   ]
  },
  {
   "cell_type": "markdown",
   "id": "3a848df8-017b-44e0-8094-ea75d28f386c",
   "metadata": {},
   "source": [
    "|Date (YYYY-MM-DD)|Version|Changed By|Change Description|\n",
    "|-|-|-|-|\n",
    "|2021-05-26|1.0|Yan|Created the initial version|\n"
   ]
  },
  {
   "cell_type": "markdown",
   "id": "df69187e-f52d-4768-a3d0-3a7f1a99962c",
   "metadata": {},
   "source": [
    "Copyright © 2021 IBM Corporation. All rights reserved.\n"
   ]
  }
 ],
 "metadata": {
  "kernelspec": {
   "display_name": "base",
   "language": "python",
   "name": "python3"
  },
  "language_info": {
   "codemirror_mode": {
    "name": "ipython",
    "version": 3
   },
   "file_extension": ".py",
   "mimetype": "text/x-python",
   "name": "python",
   "nbconvert_exporter": "python",
   "pygments_lexer": "ipython3",
   "version": "3.12.7"
  },
  "prev_pub_hash": "55c216115ef3c9956bad93ab387b1d19bb068a77c9a7682441bce33021bf54e8"
 },
 "nbformat": 4,
 "nbformat_minor": 4
}
