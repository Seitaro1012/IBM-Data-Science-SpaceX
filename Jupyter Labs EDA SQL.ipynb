{
 "cells": [
  {
   "cell_type": "markdown",
   "id": "89bd2879-a8c6-47b4-9a5c-ddd27cf08851",
   "metadata": {},
   "source": [
    "<p style=\"text-align:center\">\n",
    "    <a href=\"https://skills.network\" target=\"_blank\">\n",
    "    <img src=\"https://cf-courses-data.s3.us.cloud-object-storage.appdomain.cloud/assets/logos/SN_web_lightmode.png\" width=\"200\" alt=\"スキル ネットワーク ロゴ\">\n",
    "    </a>\n",
    "</p>\n",
    "\n",
    "<h1 align=center><font size = 5>割り当て: ピア割り当て用の SQL ノートブック</font></h1>\n",
    "\n",
    "推定所要時間: **60**分。\n",
    "\n",
    "＃＃ 導入\n",
    "この Python ノートブックを使用して、次のことを行います。\n",
    "\n",
    "1. Spacex データセットを理解する\n",
    "2. データセットを Db2 データベースの対応するテーブルにロードします。\n",
    "3. SQL クエリを実行して割り当ての質問に答える\n"
   ]
  },
  {
   "cell_type": "markdown",
   "id": "94d6d800-d057-4d5e-9cfe-3d050ebebbd3",
   "metadata": {},
   "source": [
    "## DataSet の概要\n",
    "\n",
    "SpaceX は一連の歴史的なマイルストーンで世界的な注目を集めています。 \n",
    "\n",
    "同社は、地球低軌道から宇宙船を帰還させた唯一の民間企業であり、2010 年 12 月に初めてそれを達成した。\n",
    "SpaceXは自社ウェブサイトでFalcon 9ロケットの打ち上げ費用が6,200万ドルであると宣伝しているが、他のプロバイダーは1回あたり1億6,500万ドル以上の費用がかかるが、その節約の多くはSpace Xが第1段を再利用できるためである。\n",
    "したがって、第 1 段が着陸するかどうかを判断できれば、打ち上げのコストを決定できます。 \n",
    "\n",
    "この情報は、代替企業が SpaceX に対してロケット打ち上げに入札したい場合に使用できます。\n",
    "\n",
    "このデータセットには、SpaceX の宇宙へのミッション中に運ばれた各ペイロードの記録が含まれています。\n"
   ]
  },
  {
   "cell_type": "markdown",
   "id": "3fae4565-fca0-404a-bfdd-fb5c7b875377",
   "metadata": {},
   "source": [
    "### データセットをダウンロードする\n",
    "\n",
    "この割り当てでは、spacex データセットをロードする必要があります。\n",
    "\n",
    "多くの場合、分析対象のデータセットは、インターネット上で .CSV (カンマ区切り値) ファイルとして入手できます。以下のリンクをクリックして、データセット (.CSV ファイル) をダウンロードして保存します。\n",
    "\n",
    " <a href=\"https://cf-courses-data.s3.us.cloud-object-storage.appdomain.cloud/IBM-DS0321EN-SkillsNetwork/labs/module_2/data/Spacex.csv\" target=\"_blank\" >Spacex データセット</a>\n"
   ]
  },
  {
   "cell_type": "code",
   "execution_count": null,
   "id": "a4d7d307-8843-402a-9964-e7103b77aae3",
   "metadata": {},
   "outputs": [],
   "source": [
    "!pip install sqlalchemy==1.3.9\n"
   ]
  },
  {
   "cell_type": "markdown",
   "id": "03fa3071-0727-447f-8076-788d56c426af",
   "metadata": {},
   "source": [
    "### Connect to the database\n",
    "\n",
    "Let us first load the SQL extension and establish a connection with the database\n"
   ]
  },
  {
   "cell_type": "code",
   "execution_count": 2,
   "id": "c385650c-98a7-4bd9-a003-3b9ced43dec9",
   "metadata": {},
   "outputs": [
    {
     "name": "stdout",
     "output_type": "stream",
     "text": [
      "Collecting ipython-sql\n",
      "  Downloading ipython_sql-0.5.0-py3-none-any.whl.metadata (17 kB)\n",
      "Collecting prettytable\n",
      "  Downloading prettytable-3.12.0-py3-none-any.whl.metadata (30 kB)\n",
      "Requirement already satisfied: ipython in /opt/anaconda3/lib/python3.12/site-packages (from ipython-sql) (8.27.0)\n",
      "Requirement already satisfied: sqlalchemy>=2.0 in /opt/anaconda3/lib/python3.12/site-packages (from ipython-sql) (2.0.34)\n",
      "Collecting sqlparse (from ipython-sql)\n",
      "  Downloading sqlparse-0.5.3-py3-none-any.whl.metadata (3.9 kB)\n",
      "Requirement already satisfied: six in /opt/anaconda3/lib/python3.12/site-packages (from ipython-sql) (1.16.0)\n",
      "Requirement already satisfied: ipython-genutils in /opt/anaconda3/lib/python3.12/site-packages (from ipython-sql) (0.2.0)\n",
      "Requirement already satisfied: wcwidth in /opt/anaconda3/lib/python3.12/site-packages (from prettytable) (0.2.5)\n",
      "Requirement already satisfied: typing-extensions>=4.6.0 in /opt/anaconda3/lib/python3.12/site-packages (from sqlalchemy>=2.0->ipython-sql) (4.11.0)\n",
      "Requirement already satisfied: decorator in /opt/anaconda3/lib/python3.12/site-packages (from ipython->ipython-sql) (5.1.1)\n",
      "Requirement already satisfied: jedi>=0.16 in /opt/anaconda3/lib/python3.12/site-packages (from ipython->ipython-sql) (0.19.1)\n",
      "Requirement already satisfied: matplotlib-inline in /opt/anaconda3/lib/python3.12/site-packages (from ipython->ipython-sql) (0.1.6)\n",
      "Requirement already satisfied: prompt-toolkit<3.1.0,>=3.0.41 in /opt/anaconda3/lib/python3.12/site-packages (from ipython->ipython-sql) (3.0.43)\n",
      "Requirement already satisfied: pygments>=2.4.0 in /opt/anaconda3/lib/python3.12/site-packages (from ipython->ipython-sql) (2.15.1)\n",
      "Requirement already satisfied: stack-data in /opt/anaconda3/lib/python3.12/site-packages (from ipython->ipython-sql) (0.2.0)\n",
      "Requirement already satisfied: traitlets>=5.13.0 in /opt/anaconda3/lib/python3.12/site-packages (from ipython->ipython-sql) (5.14.3)\n",
      "Requirement already satisfied: pexpect>4.3 in /opt/anaconda3/lib/python3.12/site-packages (from ipython->ipython-sql) (4.8.0)\n",
      "Requirement already satisfied: parso<0.9.0,>=0.8.3 in /opt/anaconda3/lib/python3.12/site-packages (from jedi>=0.16->ipython->ipython-sql) (0.8.3)\n",
      "Requirement already satisfied: ptyprocess>=0.5 in /opt/anaconda3/lib/python3.12/site-packages (from pexpect>4.3->ipython->ipython-sql) (0.7.0)\n",
      "Requirement already satisfied: executing in /opt/anaconda3/lib/python3.12/site-packages (from stack-data->ipython->ipython-sql) (0.8.3)\n",
      "Requirement already satisfied: asttokens in /opt/anaconda3/lib/python3.12/site-packages (from stack-data->ipython->ipython-sql) (2.0.5)\n",
      "Requirement already satisfied: pure-eval in /opt/anaconda3/lib/python3.12/site-packages (from stack-data->ipython->ipython-sql) (0.2.2)\n",
      "Downloading ipython_sql-0.5.0-py3-none-any.whl (20 kB)\n",
      "Downloading prettytable-3.12.0-py3-none-any.whl (31 kB)\n",
      "Downloading sqlparse-0.5.3-py3-none-any.whl (44 kB)\n",
      "Installing collected packages: sqlparse, prettytable, ipython-sql\n",
      "Successfully installed ipython-sql-0.5.0 prettytable-3.12.0 sqlparse-0.5.3\n"
     ]
    }
   ],
   "source": [
    "\n",
    "!pip install ipython-sql prettytable"
   ]
  },
  {
   "cell_type": "code",
   "execution_count": null,
   "id": "a0b74990-cc58-4adc-b89e-9a942b4851b6",
   "metadata": {},
   "outputs": [],
   "source": [
    "%load_ext sql"
   ]
  },
  {
   "cell_type": "code",
   "execution_count": 3,
   "id": "8029f1cc-2b5d-4996-bf18-167fa8cad4fd",
   "metadata": {},
   "outputs": [],
   "source": [
    "import csv, sqlite3\n",
    "import prettytable\n",
    "prettytable.DEFAULT = 'DEFAULT'\n",
    "\n",
    "con = sqlite3.connect(\"my_data1.db\")\n",
    "cur = con.cursor()"
   ]
  },
  {
   "cell_type": "code",
   "execution_count": null,
   "id": "dc62f345-3a63-4efd-97a0-09f6c1f71e2a",
   "metadata": {},
   "outputs": [],
   "source": [
    "!pip install -q pandas"
   ]
  },
  {
   "cell_type": "code",
   "execution_count": 5,
   "id": "38faa6c1-4573-4ddd-bf97-0021260e66a1",
   "metadata": {},
   "outputs": [],
   "source": [
    "%sql sqlite:///my_data1.db"
   ]
  },
  {
   "cell_type": "code",
   "execution_count": 4,
   "id": "a7a5ce5d-3433-4a9f-9057-ed47998264b1",
   "metadata": {},
   "outputs": [
    {
     "data": {
      "text/plain": [
       "101"
      ]
     },
     "execution_count": 4,
     "metadata": {},
     "output_type": "execute_result"
    }
   ],
   "source": [
    "import pandas as pd\n",
    "df = pd.read_csv(\"https://cf-courses-data.s3.us.cloud-object-storage.appdomain.cloud/IBM-DS0321EN-SkillsNetwork/labs/module_2/data/Spacex.csv\")\n",
    "df.to_sql(\"SPACEXTBL\", con, if_exists='replace', index=False,method=\"multi\")"
   ]
  },
  {
   "cell_type": "markdown",
   "id": "528aa40a-4284-4d41-b0b6-dd4d8b309d57",
   "metadata": {},
   "source": [
    "**注: 以下のコードは、テーブルから空白行を削除するために追加されています**\n"
   ]
  },
  {
   "cell_type": "code",
   "execution_count": 6,
   "id": "85213691-a735-483e-805e-c9ad140a83f4",
   "metadata": {},
   "outputs": [
    {
     "name": "stdout",
     "output_type": "stream",
     "text": [
      " * sqlite:///my_data1.db\n",
      "Done.\n"
     ]
    },
    {
     "data": {
      "text/plain": [
       "[]"
      ]
     },
     "execution_count": 9,
     "metadata": {},
     "output_type": "execute_result"
    }
   ],
   "source": [
    "#DROP THE TABLE IF EXISTS\n",
    "\n",
    "%sql DROP TABLE IF EXISTS SPACEXTABLE;"
   ]
  },
  {
   "cell_type": "code",
   "execution_count": null,
   "id": "8a2f7a9d-4f67-4016-905e-6716b93c2c08",
   "metadata": {},
   "outputs": [
    {
     "name": "stdout",
     "output_type": "stream",
     "text": [
      " * sqlite:///my_data1.db\n",
      "Done.\n"
     ]
    },
    {
     "data": {
      "text/plain": [
       "[]"
      ]
     },
     "execution_count": 10,
     "metadata": {},
     "output_type": "execute_result"
    }
   ],
   "source": [
    "%sql create table SPACEXTABLE as select * from SPACEXTBL where Date is not null"
   ]
  },
  {
   "cell_type": "markdown",
   "id": "6dde26fd-86f4-4b09-8ea2-6d56599cc423",
   "metadata": {},
   "source": [
    "## タスク\n",
    "\n",
    "次に、SQL クエリを作成して実行して、割り当てタスクを解決します。\n",
    "\n",
    "**注: 列名に大文字と小文字が混在している場合は、二重引用符で囲みます。\n",
    "   例:「Landing_Outcome」**\n",
    "\n",
    "### タスク 1\n",
    "\n",
    "\n",
    "\n",
    "\n",
    "##### 宇宙ミッションにおける固有の発射場の名前を表示します"
   ]
  },
  {
   "cell_type": "code",
   "execution_count": 13,
   "id": "f3d2249d-9229-4d7c-8513-9cb737522237",
   "metadata": {},
   "outputs": [
    {
     "name": "stdout",
     "output_type": "stream",
     "text": [
      " * sqlite:///my_data1.db\n",
      "Done.\n"
     ]
    },
    {
     "data": {
      "text/html": [
       "<table>\n",
       "    <thead>\n",
       "        <tr>\n",
       "            <th>Launch_Site</th>\n",
       "        </tr>\n",
       "    </thead>\n",
       "    <tbody>\n",
       "        <tr>\n",
       "            <td>CCAFS LC-40</td>\n",
       "        </tr>\n",
       "        <tr>\n",
       "            <td>VAFB SLC-4E</td>\n",
       "        </tr>\n",
       "        <tr>\n",
       "            <td>KSC LC-39A</td>\n",
       "        </tr>\n",
       "        <tr>\n",
       "            <td>CCAFS SLC-40</td>\n",
       "        </tr>\n",
       "    </tbody>\n",
       "</table>"
      ],
      "text/plain": [
       "[('CCAFS LC-40',), ('VAFB SLC-4E',), ('KSC LC-39A',), ('CCAFS SLC-40',)]"
      ]
     },
     "execution_count": 13,
     "metadata": {},
     "output_type": "execute_result"
    }
   ],
   "source": [
    "%%sql\n",
    "\n",
    "select DISTINCT Launch_Site from SPACEXTBL \n",
    "\n"
   ]
  },
  {
   "cell_type": "code",
   "execution_count": 40,
   "metadata": {},
   "outputs": [
    {
     "name": "stdout",
     "output_type": "stream",
     "text": [
      " * sqlite:///my_data1.db\n",
      "Done.\n"
     ]
    },
    {
     "data": {
      "text/html": [
       "<table>\n",
       "    <thead>\n",
       "        <tr>\n",
       "            <th>Mission_Outcome</th>\n",
       "        </tr>\n",
       "    </thead>\n",
       "    <tbody>\n",
       "        <tr>\n",
       "            <td>Success</td>\n",
       "        </tr>\n",
       "        <tr>\n",
       "            <td>Failure (in flight)</td>\n",
       "        </tr>\n",
       "        <tr>\n",
       "            <td>Success (payload status unclear)</td>\n",
       "        </tr>\n",
       "        <tr>\n",
       "            <td>Success </td>\n",
       "        </tr>\n",
       "    </tbody>\n",
       "</table>"
      ],
      "text/plain": [
       "[('Success',),\n",
       " ('Failure (in flight)',),\n",
       " ('Success (payload status unclear)',),\n",
       " ('Success ',)]"
      ]
     },
     "execution_count": 40,
     "metadata": {},
     "output_type": "execute_result"
    }
   ],
   "source": [
    "%%sql\n",
    "\n",
    "select DISTINCT Mission_Outcome from SPACEXTBL "
   ]
  },
  {
   "cell_type": "markdown",
   "id": "d121b4b9-da0e-4aab-ba95-1165a46fdc0b",
   "metadata": {},
   "source": [
    "### タスク 2\n",
    "\n",
    "\n",
    "##### 発射地点が文字列「CCA」で始まるレコードを 5 件表示します\n"
   ]
  },
  {
   "cell_type": "code",
   "execution_count": 17,
   "id": "2bbe5094-bfc6-49ec-8fb9-07b37644dd04",
   "metadata": {},
   "outputs": [
    {
     "name": "stdout",
     "output_type": "stream",
     "text": [
      " * sqlite:///my_data1.db\n",
      "Done.\n"
     ]
    },
    {
     "data": {
      "text/html": [
       "<table>\n",
       "    <thead>\n",
       "        <tr>\n",
       "            <th>Date</th>\n",
       "            <th>Time (UTC)</th>\n",
       "            <th>Booster_Version</th>\n",
       "            <th>Launch_Site</th>\n",
       "            <th>Payload</th>\n",
       "            <th>PAYLOAD_MASS__KG_</th>\n",
       "            <th>Orbit</th>\n",
       "            <th>Customer</th>\n",
       "            <th>Mission_Outcome</th>\n",
       "            <th>Landing_Outcome</th>\n",
       "        </tr>\n",
       "    </thead>\n",
       "    <tbody>\n",
       "        <tr>\n",
       "            <td>2010-06-04</td>\n",
       "            <td>18:45:00</td>\n",
       "            <td>F9 v1.0  B0003</td>\n",
       "            <td>CCAFS LC-40</td>\n",
       "            <td>Dragon Spacecraft Qualification Unit</td>\n",
       "            <td>0</td>\n",
       "            <td>LEO</td>\n",
       "            <td>SpaceX</td>\n",
       "            <td>Success</td>\n",
       "            <td>Failure (parachute)</td>\n",
       "        </tr>\n",
       "        <tr>\n",
       "            <td>2010-12-08</td>\n",
       "            <td>15:43:00</td>\n",
       "            <td>F9 v1.0  B0004</td>\n",
       "            <td>CCAFS LC-40</td>\n",
       "            <td>Dragon demo flight C1, two CubeSats, barrel of Brouere cheese</td>\n",
       "            <td>0</td>\n",
       "            <td>LEO (ISS)</td>\n",
       "            <td>NASA (COTS) NRO</td>\n",
       "            <td>Success</td>\n",
       "            <td>Failure (parachute)</td>\n",
       "        </tr>\n",
       "        <tr>\n",
       "            <td>2012-05-22</td>\n",
       "            <td>7:44:00</td>\n",
       "            <td>F9 v1.0  B0005</td>\n",
       "            <td>CCAFS LC-40</td>\n",
       "            <td>Dragon demo flight C2</td>\n",
       "            <td>525</td>\n",
       "            <td>LEO (ISS)</td>\n",
       "            <td>NASA (COTS)</td>\n",
       "            <td>Success</td>\n",
       "            <td>No attempt</td>\n",
       "        </tr>\n",
       "        <tr>\n",
       "            <td>2012-10-08</td>\n",
       "            <td>0:35:00</td>\n",
       "            <td>F9 v1.0  B0006</td>\n",
       "            <td>CCAFS LC-40</td>\n",
       "            <td>SpaceX CRS-1</td>\n",
       "            <td>500</td>\n",
       "            <td>LEO (ISS)</td>\n",
       "            <td>NASA (CRS)</td>\n",
       "            <td>Success</td>\n",
       "            <td>No attempt</td>\n",
       "        </tr>\n",
       "        <tr>\n",
       "            <td>2013-03-01</td>\n",
       "            <td>15:10:00</td>\n",
       "            <td>F9 v1.0  B0007</td>\n",
       "            <td>CCAFS LC-40</td>\n",
       "            <td>SpaceX CRS-2</td>\n",
       "            <td>677</td>\n",
       "            <td>LEO (ISS)</td>\n",
       "            <td>NASA (CRS)</td>\n",
       "            <td>Success</td>\n",
       "            <td>No attempt</td>\n",
       "        </tr>\n",
       "    </tbody>\n",
       "</table>"
      ],
      "text/plain": [
       "[('2010-06-04', '18:45:00', 'F9 v1.0  B0003', 'CCAFS LC-40', 'Dragon Spacecraft Qualification Unit', 0, 'LEO', 'SpaceX', 'Success', 'Failure (parachute)'),\n",
       " ('2010-12-08', '15:43:00', 'F9 v1.0  B0004', 'CCAFS LC-40', 'Dragon demo flight C1, two CubeSats, barrel of Brouere cheese', 0, 'LEO (ISS)', 'NASA (COTS) NRO', 'Success', 'Failure (parachute)'),\n",
       " ('2012-05-22', '7:44:00', 'F9 v1.0  B0005', 'CCAFS LC-40', 'Dragon demo flight C2', 525, 'LEO (ISS)', 'NASA (COTS)', 'Success', 'No attempt'),\n",
       " ('2012-10-08', '0:35:00', 'F9 v1.0  B0006', 'CCAFS LC-40', 'SpaceX CRS-1', 500, 'LEO (ISS)', 'NASA (CRS)', 'Success', 'No attempt'),\n",
       " ('2013-03-01', '15:10:00', 'F9 v1.0  B0007', 'CCAFS LC-40', 'SpaceX CRS-2', 677, 'LEO (ISS)', 'NASA (CRS)', 'Success', 'No attempt')]"
      ]
     },
     "execution_count": 17,
     "metadata": {},
     "output_type": "execute_result"
    }
   ],
   "source": [
    "%%sql\n",
    "select *\n",
    "from SPACEXTBL \n",
    "WHERE Launch_Site LIKE 'CCA%'\n",
    "LIMIT 5;"
   ]
  },
  {
   "cell_type": "markdown",
   "id": "01a83baa-0a5d-4a3a-ba33-8447eb27ba95",
   "metadata": {},
   "source": [
    "### タスク 3\n",
    "\n",
    "\n",
    "\n",
    "\n",
    "##### NASA (CRS) によって打ち上げられたブースターによって運ばれる総ペイロード質量を表示します\n"
   ]
  },
  {
   "cell_type": "code",
   "execution_count": 26,
   "id": "27e6bfbd-b73b-4ba3-8daa-df0ece26a8dd",
   "metadata": {},
   "outputs": [
    {
     "name": "stdout",
     "output_type": "stream",
     "text": [
      " * sqlite:///my_data1.db\n",
      "Done.\n"
     ]
    },
    {
     "data": {
      "text/html": [
       "<table>\n",
       "    <thead>\n",
       "        <tr>\n",
       "            <th>SUM(PAYLOAD_MASS__KG_)</th>\n",
       "        </tr>\n",
       "    </thead>\n",
       "    <tbody>\n",
       "        <tr>\n",
       "            <td>45596</td>\n",
       "        </tr>\n",
       "    </tbody>\n",
       "</table>"
      ],
      "text/plain": [
       "[(45596,)]"
      ]
     },
     "execution_count": 26,
     "metadata": {},
     "output_type": "execute_result"
    }
   ],
   "source": [
    "%%sql\n",
    "\n",
    "SELECT SUM(PAYLOAD_MASS__KG_)\n",
    "FROM SPACEXTBL\n",
    "WHERE Customer LIKE 'NASA (CRS)'"
   ]
  },
  {
   "cell_type": "markdown",
   "id": "baa903e5-57a2-4c9e-9cfa-3c6305aa5100",
   "metadata": {},
   "source": [
    "### タスク 4\n",
    "\n",
    "\n",
    "\n",
    "\n",
    "##### ブースター バージョン F9 v1.1 によって運ばれる平均ペイロード質量を表示します\n"
   ]
  },
  {
   "cell_type": "code",
   "execution_count": 27,
   "id": "0bc18667-7b6d-47ea-beb1-7cb726bdcb8a",
   "metadata": {},
   "outputs": [
    {
     "name": "stdout",
     "output_type": "stream",
     "text": [
      " * sqlite:///my_data1.db\n",
      "Done.\n"
     ]
    },
    {
     "data": {
      "text/html": [
       "<table>\n",
       "    <thead>\n",
       "        <tr>\n",
       "            <th>AVG(PAYLOAD_MASS__KG_)</th>\n",
       "        </tr>\n",
       "    </thead>\n",
       "    <tbody>\n",
       "        <tr>\n",
       "            <td>2534.6666666666665</td>\n",
       "        </tr>\n",
       "    </tbody>\n",
       "</table>"
      ],
      "text/plain": [
       "[(2534.6666666666665,)]"
      ]
     },
     "execution_count": 27,
     "metadata": {},
     "output_type": "execute_result"
    }
   ],
   "source": [
    "%%sql\n",
    "\n",
    "SELECT AVG(PAYLOAD_MASS__KG_)\n",
    "FROM SPACEXTBL\n",
    "WHERE Booster_Version LIKE 'F9 v1.1%'"
   ]
  },
  {
   "cell_type": "markdown",
   "id": "baaddece-9051-4d41-9e6b-25ccbaed975b",
   "metadata": {},
   "source": [
    "### タスク 5\n",
    "##### 地上パッドへの最初の着陸成功が達成された日付をリストします。\n",
    "ヒント: min 関数を使用する\n"
   ]
  },
  {
   "cell_type": "code",
   "execution_count": 31,
   "id": "6f9fe6f1-35f1-4d0d-9dc5-3876b07e814f",
   "metadata": {},
   "outputs": [
    {
     "name": "stdout",
     "output_type": "stream",
     "text": [
      " * sqlite:///my_data1.db\n",
      "Done.\n"
     ]
    },
    {
     "data": {
      "text/html": [
       "<table>\n",
       "    <thead>\n",
       "        <tr>\n",
       "            <th>min(Date)</th>\n",
       "        </tr>\n",
       "    </thead>\n",
       "    <tbody>\n",
       "        <tr>\n",
       "            <td>2010-06-04</td>\n",
       "        </tr>\n",
       "    </tbody>\n",
       "</table>"
      ],
      "text/plain": [
       "[('2010-06-04',)]"
      ]
     },
     "execution_count": 31,
     "metadata": {},
     "output_type": "execute_result"
    }
   ],
   "source": [
    "%%sql\n",
    "\n",
    "SELECT min(Date)\n",
    "FROM SPACEXTBL"
   ]
  },
  {
   "cell_type": "markdown",
   "id": "89adcf79-9102-4acf-9d97-a3453a6b0fb4",
   "metadata": {},
   "source": [
    "### タスク 6\n",
    "\n",
    "##### ドローン船で成功し、ペイロード質量が 4000 を超え 6000 未満のブースターの名前を列挙してください"
   ]
  },
  {
   "cell_type": "code",
   "execution_count": 35,
   "id": "e40a37fa-c943-4c79-99e0-ace641ec0f6d",
   "metadata": {},
   "outputs": [
    {
     "name": "stdout",
     "output_type": "stream",
     "text": [
      " * sqlite:///my_data1.db\n",
      "Done.\n"
     ]
    },
    {
     "data": {
      "text/html": [
       "<table>\n",
       "    <thead>\n",
       "        <tr>\n",
       "            <th>Payload</th>\n",
       "        </tr>\n",
       "    </thead>\n",
       "    <tbody>\n",
       "        <tr>\n",
       "            <td>Iridium NEXT 1</td>\n",
       "        </tr>\n",
       "        <tr>\n",
       "            <td>Inmarsat-5 F4</td>\n",
       "        </tr>\n",
       "        <tr>\n",
       "            <td>Iridium NEXT 2</td>\n",
       "        </tr>\n",
       "        <tr>\n",
       "            <td>Intelsat 35e</td>\n",
       "        </tr>\n",
       "        <tr>\n",
       "            <td>Iridium NEXT 3</td>\n",
       "        </tr>\n",
       "        <tr>\n",
       "            <td>Iridium NEXT 4</td>\n",
       "        </tr>\n",
       "        <tr>\n",
       "            <td>Hispasat 30W-6  PODSat</td>\n",
       "        </tr>\n",
       "        <tr>\n",
       "            <td>Iridium NEXT 5</td>\n",
       "        </tr>\n",
       "        <tr>\n",
       "            <td>Iridium NEXT 6   GRACE-FO 1, 2</td>\n",
       "        </tr>\n",
       "        <tr>\n",
       "            <td>Telstar 19V</td>\n",
       "        </tr>\n",
       "        <tr>\n",
       "            <td>Iridium NEXT-7</td>\n",
       "        </tr>\n",
       "        <tr>\n",
       "            <td>Telstar 18V / Apstar-5C</td>\n",
       "        </tr>\n",
       "        <tr>\n",
       "            <td>Iridium NEXT-8</td>\n",
       "        </tr>\n",
       "        <tr>\n",
       "            <td>Crew Dragon Demo-1, SpaceX CRS-17 </td>\n",
       "        </tr>\n",
       "        <tr>\n",
       "            <td>Starlink v0.9, RADARSAT Constellation</td>\n",
       "        </tr>\n",
       "        <tr>\n",
       "            <td>AMOS-17, Starlink 1 v1.0 </td>\n",
       "        </tr>\n",
       "        <tr>\n",
       "            <td>Starlink 1 v1.0, SpaceX CRS-19 </td>\n",
       "        </tr>\n",
       "        <tr>\n",
       "            <td>JCSat-18 / Kacific 1, Starlink 2 v1.0 </td>\n",
       "        </tr>\n",
       "        <tr>\n",
       "            <td>Starlink 2 v1.0, Crew Dragon in-flight abort test </td>\n",
       "        </tr>\n",
       "        <tr>\n",
       "            <td>Crew Dragon in-flight abort test, Starlink 3 v1.0 </td>\n",
       "        </tr>\n",
       "        <tr>\n",
       "            <td>Starlink 3 v1.0, Starlink 4 v1.0 </td>\n",
       "        </tr>\n",
       "        <tr>\n",
       "            <td>Starlink 4 v1.0, SpaceX CRS-20</td>\n",
       "        </tr>\n",
       "        <tr>\n",
       "            <td>Starlink 5 v1.0, Starlink 6 v1.0 </td>\n",
       "        </tr>\n",
       "        <tr>\n",
       "            <td>Starlink 6 v1.0, Crew Dragon Demo-2 </td>\n",
       "        </tr>\n",
       "        <tr>\n",
       "            <td>Crew Dragon Demo-2, Starlink 7 v1.0 </td>\n",
       "        </tr>\n",
       "        <tr>\n",
       "            <td>Starlink 7 v1.0, Starlink 8 v1.0</td>\n",
       "        </tr>\n",
       "        <tr>\n",
       "            <td>Starlink 8 v1.0, SkySats-16, -17, -18, GPS III-03 </td>\n",
       "        </tr>\n",
       "        <tr>\n",
       "            <td>Starlink 9 v1.0, SXRS-1, Starlink 10 v1.0 </td>\n",
       "        </tr>\n",
       "        <tr>\n",
       "            <td>Starlink 10 v1.0, SkySat-19, -20, -21, SAOCOM 1B </td>\n",
       "        </tr>\n",
       "        <tr>\n",
       "            <td>Starlink 11 v1.0, Starlink 12 v1.0 </td>\n",
       "        </tr>\n",
       "        <tr>\n",
       "            <td>Starlink 12 v1.0, Starlink 13 v1.0 </td>\n",
       "        </tr>\n",
       "        <tr>\n",
       "            <td>Starlink 13 v1.0, Starlink 14 v1.0 </td>\n",
       "        </tr>\n",
       "        <tr>\n",
       "            <td>Starlink 14 v1.0, GPS III-04  </td>\n",
       "        </tr>\n",
       "        <tr>\n",
       "            <td>Crew-1, Sentinel-6 Michael Freilich </td>\n",
       "        </tr>\n",
       "        <tr>\n",
       "            <td>Starlink 15 v1.0, SpaceX CRS-21</td>\n",
       "        </tr>\n",
       "    </tbody>\n",
       "</table>"
      ],
      "text/plain": [
       "[('Iridium NEXT 1',),\n",
       " ('Inmarsat-5 F4',),\n",
       " ('Iridium NEXT 2',),\n",
       " ('Intelsat 35e',),\n",
       " ('Iridium NEXT 3',),\n",
       " ('Iridium NEXT 4',),\n",
       " ('Hispasat 30W-6  PODSat',),\n",
       " ('Iridium NEXT 5',),\n",
       " ('Iridium NEXT 6   GRACE-FO 1, 2',),\n",
       " ('Telstar 19V',),\n",
       " ('Iridium NEXT-7',),\n",
       " ('Telstar 18V / Apstar-5C',),\n",
       " ('Iridium NEXT-8',),\n",
       " ('Crew Dragon Demo-1, SpaceX CRS-17 ',),\n",
       " ('Starlink v0.9, RADARSAT Constellation',),\n",
       " ('AMOS-17, Starlink 1 v1.0 ',),\n",
       " ('Starlink 1 v1.0, SpaceX CRS-19 ',),\n",
       " ('JCSat-18 / Kacific 1, Starlink 2 v1.0 ',),\n",
       " ('Starlink 2 v1.0, Crew Dragon in-flight abort test ',),\n",
       " ('Crew Dragon in-flight abort test, Starlink 3 v1.0 ',),\n",
       " ('Starlink 3 v1.0, Starlink 4 v1.0 ',),\n",
       " ('Starlink 4 v1.0, SpaceX CRS-20',),\n",
       " ('Starlink 5 v1.0, Starlink 6 v1.0 ',),\n",
       " ('Starlink 6 v1.0, Crew Dragon Demo-2 ',),\n",
       " ('Crew Dragon Demo-2, Starlink 7 v1.0 ',),\n",
       " ('Starlink 7 v1.0, Starlink 8 v1.0',),\n",
       " ('Starlink 8 v1.0, SkySats-16, -17, -18, GPS III-03 ',),\n",
       " ('Starlink 9 v1.0, SXRS-1, Starlink 10 v1.0 ',),\n",
       " ('Starlink 10 v1.0, SkySat-19, -20, -21, SAOCOM 1B ',),\n",
       " ('Starlink 11 v1.0, Starlink 12 v1.0 ',),\n",
       " ('Starlink 12 v1.0, Starlink 13 v1.0 ',),\n",
       " ('Starlink 13 v1.0, Starlink 14 v1.0 ',),\n",
       " ('Starlink 14 v1.0, GPS III-04  ',),\n",
       " ('Crew-1, Sentinel-6 Michael Freilich ',),\n",
       " ('Starlink 15 v1.0, SpaceX CRS-21',)]"
      ]
     },
     "execution_count": 35,
     "metadata": {},
     "output_type": "execute_result"
    }
   ],
   "source": [
    "%%sql\n",
    "\n",
    "select Payload\n",
    "from SPACEXTBL\n",
    "where Mission_Outcome = 'Success'\n",
    "and PAYLOAD_MASS__KG_ > 4000\n",
    "and PAYLOAD_MASS__KG_ > 6000"
   ]
  },
  {
   "cell_type": "markdown",
   "id": "f95a32dd-cb3f-4352-acc0-64a8bdbb71f0",
   "metadata": {},
   "source": [
    "### タスク 7\n",
    "\n",
    "\n",
    "\n",
    "\n",
    "##### 成功したミッション結果と失敗したミッション結果の合計数をリストします。\n"
   ]
  },
  {
   "cell_type": "code",
   "execution_count": 51,
   "id": "3f40175e-ef62-44f0-8bf2-5c24464ccd7b",
   "metadata": {},
   "outputs": [
    {
     "name": "stdout",
     "output_type": "stream",
     "text": [
      " * sqlite:///my_data1.db\n",
      "Done.\n"
     ]
    },
    {
     "data": {
      "text/html": [
       "<table>\n",
       "    <thead>\n",
       "        <tr>\n",
       "            <th>count(Mission_Outcome)</th>\n",
       "        </tr>\n",
       "    </thead>\n",
       "    <tbody>\n",
       "        <tr>\n",
       "            <td>100</td>\n",
       "        </tr>\n",
       "    </tbody>\n",
       "</table>"
      ],
      "text/plain": [
       "[(100,)]"
      ]
     },
     "execution_count": 51,
     "metadata": {},
     "output_type": "execute_result"
    }
   ],
   "source": [
    "%%sql\n",
    "\n",
    "select count(Mission_Outcome)\n",
    "from SPACEXTBL\n",
    "where Mission_Outcome like 'Success%'"
   ]
  },
  {
   "cell_type": "code",
   "execution_count": 52,
   "metadata": {},
   "outputs": [
    {
     "name": "stdout",
     "output_type": "stream",
     "text": [
      " * sqlite:///my_data1.db\n",
      "Done.\n"
     ]
    },
    {
     "data": {
      "text/html": [
       "<table>\n",
       "    <thead>\n",
       "        <tr>\n",
       "            <th>count(Mission_Outcome)</th>\n",
       "        </tr>\n",
       "    </thead>\n",
       "    <tbody>\n",
       "        <tr>\n",
       "            <td>1</td>\n",
       "        </tr>\n",
       "    </tbody>\n",
       "</table>"
      ],
      "text/plain": [
       "[(1,)]"
      ]
     },
     "execution_count": 52,
     "metadata": {},
     "output_type": "execute_result"
    }
   ],
   "source": [
    "%%sql\n",
    "\n",
    "select count(Mission_Outcome)\n",
    "from SPACEXTBL\n",
    "where Mission_Outcome like 'Failure%'"
   ]
  },
  {
   "cell_type": "code",
   "execution_count": 50,
   "metadata": {},
   "outputs": [
    {
     "name": "stdout",
     "output_type": "stream",
     "text": [
      " * sqlite:///my_data1.db\n",
      "Done.\n"
     ]
    },
    {
     "data": {
      "text/html": [
       "<table>\n",
       "    <thead>\n",
       "        <tr>\n",
       "            <th>Mission_Outcome</th>\n",
       "        </tr>\n",
       "    </thead>\n",
       "    <tbody>\n",
       "        <tr>\n",
       "            <td>Success</td>\n",
       "        </tr>\n",
       "        <tr>\n",
       "            <td>Failure (in flight)</td>\n",
       "        </tr>\n",
       "        <tr>\n",
       "            <td>Success (payload status unclear)</td>\n",
       "        </tr>\n",
       "        <tr>\n",
       "            <td>Success </td>\n",
       "        </tr>\n",
       "    </tbody>\n",
       "</table>"
      ],
      "text/plain": [
       "[('Success',),\n",
       " ('Failure (in flight)',),\n",
       " ('Success (payload status unclear)',),\n",
       " ('Success ',)]"
      ]
     },
     "execution_count": 50,
     "metadata": {},
     "output_type": "execute_result"
    }
   ],
   "source": [
    "%%sql\n",
    "\n",
    "select DISTINCT Mission_Outcome from SPACEXTBL "
   ]
  },
  {
   "cell_type": "markdown",
   "id": "7bf2a442-9569-4ac3-b303-da73d8687947",
   "metadata": {},
   "source": [
    "### タスク 8\n",
    "\n",
    "\n",
    "\n",
    "##### 最大ペイロード質量を搭載した booster_version の名前をリストします。サブクエリを使用する\n"
   ]
  },
  {
   "cell_type": "code",
   "execution_count": 55,
   "id": "6f839b12-c426-445a-b7c6-b59e2924ea8e",
   "metadata": {},
   "outputs": [
    {
     "name": "stdout",
     "output_type": "stream",
     "text": [
      " * sqlite:///my_data1.db\n",
      "Done.\n"
     ]
    },
    {
     "data": {
      "text/html": [
       "<table>\n",
       "    <thead>\n",
       "        <tr>\n",
       "            <th>Booster_Version</th>\n",
       "        </tr>\n",
       "    </thead>\n",
       "    <tbody>\n",
       "        <tr>\n",
       "            <td>F9 B5 B1048.4</td>\n",
       "        </tr>\n",
       "        <tr>\n",
       "            <td>F9 B5 B1049.4</td>\n",
       "        </tr>\n",
       "        <tr>\n",
       "            <td>F9 B5 B1051.3</td>\n",
       "        </tr>\n",
       "        <tr>\n",
       "            <td>F9 B5 B1056.4</td>\n",
       "        </tr>\n",
       "        <tr>\n",
       "            <td>F9 B5 B1048.5</td>\n",
       "        </tr>\n",
       "        <tr>\n",
       "            <td>F9 B5 B1051.4</td>\n",
       "        </tr>\n",
       "        <tr>\n",
       "            <td>F9 B5 B1049.5</td>\n",
       "        </tr>\n",
       "        <tr>\n",
       "            <td>F9 B5 B1060.2 </td>\n",
       "        </tr>\n",
       "        <tr>\n",
       "            <td>F9 B5 B1058.3 </td>\n",
       "        </tr>\n",
       "        <tr>\n",
       "            <td>F9 B5 B1051.6</td>\n",
       "        </tr>\n",
       "        <tr>\n",
       "            <td>F9 B5 B1060.3</td>\n",
       "        </tr>\n",
       "        <tr>\n",
       "            <td>F9 B5 B1049.7 </td>\n",
       "        </tr>\n",
       "    </tbody>\n",
       "</table>"
      ],
      "text/plain": [
       "[('F9 B5 B1048.4',),\n",
       " ('F9 B5 B1049.4',),\n",
       " ('F9 B5 B1051.3',),\n",
       " ('F9 B5 B1056.4',),\n",
       " ('F9 B5 B1048.5',),\n",
       " ('F9 B5 B1051.4',),\n",
       " ('F9 B5 B1049.5',),\n",
       " ('F9 B5 B1060.2 ',),\n",
       " ('F9 B5 B1058.3 ',),\n",
       " ('F9 B5 B1051.6',),\n",
       " ('F9 B5 B1060.3',),\n",
       " ('F9 B5 B1049.7 ',)]"
      ]
     },
     "execution_count": 55,
     "metadata": {},
     "output_type": "execute_result"
    }
   ],
   "source": [
    "%%sql\n",
    "\n",
    "SELECT booster_version\n",
    "FROM SPACEXTBL\n",
    "WHERE  PAYLOAD_MASS__KG_ =(\n",
    "  SELECT MAX(PAYLOAD_MASS__KG_)\n",
    "  FROM SPACEXTBL)"
   ]
  },
  {
   "cell_type": "markdown",
   "id": "4045dfc5-2771-44d5-a3fc-2f65ad3e8ccf",
   "metadata": {},
   "source": [
    "### タスク 9\n",
    "\n",
    "\n",
    "##### 2015 年の月の月名、ドローン船の着陸失敗結果、ブースターのバージョン、打ち上げ場所を表示するレコードをリストします。\n",
    "\n",
    "**注意: SQLLite は月名をサポートしません。したがって、substr(Date, 6,2) を月として使用して月を取得し、substr(Date,0,5)='2015' を年として使用する必要があります。**\n"
   ]
  },
  {
   "cell_type": "code",
   "execution_count": 67,
   "id": "8bac7d3c-2f2b-4c68-9bbf-b62664797845",
   "metadata": {},
   "outputs": [
    {
     "name": "stdout",
     "output_type": "stream",
     "text": [
      " * sqlite:///my_data1.db\n",
      "Done.\n"
     ]
    },
    {
     "data": {
      "text/html": [
       "<table>\n",
       "    <thead>\n",
       "        <tr>\n",
       "            <th>month</th>\n",
       "            <th>Booster_Version</th>\n",
       "            <th>Launch_Site</th>\n",
       "        </tr>\n",
       "    </thead>\n",
       "    <tbody>\n",
       "        <tr>\n",
       "            <td>01</td>\n",
       "            <td>F9 v1.1 B1012</td>\n",
       "            <td>CCAFS LC-40</td>\n",
       "        </tr>\n",
       "        <tr>\n",
       "            <td>02</td>\n",
       "            <td>F9 v1.1 B1013</td>\n",
       "            <td>CCAFS LC-40</td>\n",
       "        </tr>\n",
       "        <tr>\n",
       "            <td>03</td>\n",
       "            <td>F9 v1.1 B1014</td>\n",
       "            <td>CCAFS LC-40</td>\n",
       "        </tr>\n",
       "        <tr>\n",
       "            <td>04</td>\n",
       "            <td>F9 v1.1 B1015</td>\n",
       "            <td>CCAFS LC-40</td>\n",
       "        </tr>\n",
       "        <tr>\n",
       "            <td>04</td>\n",
       "            <td>F9 v1.1 B1016</td>\n",
       "            <td>CCAFS LC-40</td>\n",
       "        </tr>\n",
       "        <tr>\n",
       "            <td>06</td>\n",
       "            <td>F9 v1.1 B1018</td>\n",
       "            <td>CCAFS LC-40</td>\n",
       "        </tr>\n",
       "        <tr>\n",
       "            <td>12</td>\n",
       "            <td>F9 FT B1019</td>\n",
       "            <td>CCAFS LC-40</td>\n",
       "        </tr>\n",
       "    </tbody>\n",
       "</table>"
      ],
      "text/plain": [
       "[('01', 'F9 v1.1 B1012', 'CCAFS LC-40'),\n",
       " ('02', 'F9 v1.1 B1013', 'CCAFS LC-40'),\n",
       " ('03', 'F9 v1.1 B1014', 'CCAFS LC-40'),\n",
       " ('04', 'F9 v1.1 B1015', 'CCAFS LC-40'),\n",
       " ('04', 'F9 v1.1 B1016', 'CCAFS LC-40'),\n",
       " ('06', 'F9 v1.1 B1018', 'CCAFS LC-40'),\n",
       " ('12', 'F9 FT B1019', 'CCAFS LC-40')]"
      ]
     },
     "execution_count": 67,
     "metadata": {},
     "output_type": "execute_result"
    }
   ],
   "source": [
    "%%sql \n",
    "\n",
    "SELECT \n",
    "  substr(Date, 6, 2) AS month,\n",
    "  Booster_Version,\n",
    "  Launch_Site\n",
    "FROM SPACEXTBL\n",
    "where substr(Date, 0, 5) = '2015'"
   ]
  },
  {
   "cell_type": "markdown",
   "id": "dbab1a52-d17c-498a-9ed7-6b0a75ba6147",
   "metadata": {},
   "source": [
    "### タスク 10\n",
    "\n",
    "\n",
    "\n",
    "\n",
    "##### 2010 年 6 月 4 日から 2017 年 3 月 20 日までの着陸結果 (失敗 (ドローン船) や成功 (地上パッド) など) の数を降順にランク付けします。\n"
   ]
  },
  {
   "cell_type": "code",
   "execution_count": 70,
   "id": "cd0051e2-ab9a-4e0e-82f9-0c44b9f84a32",
   "metadata": {},
   "outputs": [
    {
     "name": "stdout",
     "output_type": "stream",
     "text": [
      " * sqlite:///my_data1.db\n",
      "Done.\n"
     ]
    },
    {
     "data": {
      "text/html": [
       "<table>\n",
       "    <thead>\n",
       "        <tr>\n",
       "            <th>Mission_Outcome</th>\n",
       "            <th>mission_outcome</th>\n",
       "        </tr>\n",
       "    </thead>\n",
       "    <tbody>\n",
       "        <tr>\n",
       "            <td>Success</td>\n",
       "            <td>30</td>\n",
       "        </tr>\n",
       "        <tr>\n",
       "            <td>Failure (in flight)</td>\n",
       "            <td>1</td>\n",
       "        </tr>\n",
       "    </tbody>\n",
       "</table>"
      ],
      "text/plain": [
       "[('Success', 30), ('Failure (in flight)', 1)]"
      ]
     },
     "execution_count": 70,
     "metadata": {},
     "output_type": "execute_result"
    }
   ],
   "source": [
    "%%sql\n",
    "\n",
    "SELECT \n",
    "  Mission_Outcome,\n",
    "  COUNT(*) AS mission_outcome\n",
    "FROM SPACEXTBL\n",
    "WHERE Date BETWEEN '2010-06-04' AND '2017-03-20'\n",
    "GROUP BY mission_outcome\n",
    "ORDER BY mission_outcome DESC;"
   ]
  },
  {
   "cell_type": "markdown",
   "id": "0ba89b2a-1fc9-4556-b46a-3ef803ab5a99",
   "metadata": {},
   "source": [
    "### Reference Links\n",
    "\n",
    "* <a href =\"https://cf-courses-data.s3.us.cloud-object-storage.appdomain.cloud/IBMDeveloperSkillsNetwork-DB0201EN-SkillsNetwork/labs/Labs_Coursera_V5/labs/Lab%20-%20String%20Patterns%20-%20Sorting%20-%20Grouping/instructional-labs.md.html?origin=www.coursera.org\">Hands-on Lab : String Patterns, Sorting and Grouping</a>  \n",
    "\n",
    "*  <a  href=\"https://cf-courses-data.s3.us.cloud-object-storage.appdomain.cloud/IBMDeveloperSkillsNetwork-DB0201EN-SkillsNetwork/labs/Labs_Coursera_V5/labs/Lab%20-%20Built-in%20functions%20/Hands-on_Lab__Built-in_Functions.md.html?origin=www.coursera.org\">Hands-on Lab: Built-in functions</a>\n",
    "\n",
    "*  <a  href=\"https://cf-courses-data.s3.us.cloud-object-storage.appdomain.cloud/IBMDeveloperSkillsNetwork-DB0201EN-SkillsNetwork/labs/Labs_Coursera_V5/labs/Lab%20-%20Sub-queries%20and%20Nested%20SELECTs%20/instructional-labs.md.html?origin=www.coursera.org\">Hands-on Lab : Sub-queries and Nested SELECT Statements</a>\n",
    "\n",
    "*   <a href=\"https://cf-courses-data.s3.us.cloud-object-storage.appdomain.cloud/IBMDeveloperSkillsNetwork-DB0201EN-SkillsNetwork/labs/Module%205/DB0201EN-Week3-1-3-SQLmagic.ipynb\">Hands-on Tutorial: Accessing Databases with SQL magic</a>\n",
    "\n",
    "*  <a href= \"https://cf-courses-data.s3.us.cloud-object-storage.appdomain.cloud/IBMDeveloperSkillsNetwork-DB0201EN-SkillsNetwork/labs/Module%205/DB0201EN-Week3-1-4-Analyzing.ipynb\">Hands-on Lab: Analyzing a real World Data Set</a>\n",
    "\n",
    "\n"
   ]
  },
  {
   "cell_type": "markdown",
   "id": "b02226bd-f659-4d25-83ef-65cb89c218ec",
   "metadata": {},
   "source": [
    "## Author(s)\n",
    "\n",
    "<h4> Lakshmi Holla </h4>\n"
   ]
  },
  {
   "cell_type": "markdown",
   "id": "164f3e36-c5a4-40c6-be02-53c1869a1603",
   "metadata": {},
   "source": [
    "## Other Contributors\n",
    "\n",
    "<h4> Rav Ahuja </h4>\n"
   ]
  },
  {
   "cell_type": "markdown",
   "id": "452fa8f9-00b7-4099-a4d9-c7c62a8320a5",
   "metadata": {},
   "source": [
    "<!--\n",
    "## Change log\n",
    "| Date | Version | Changed by | Change Description |\n",
    "|------|--------|--------|---------|\n",
    "| 2024-07-10 | 1.1 |Anita Verma | Changed Version|\n",
    "| 2021-07-09 | 0.2 |Lakshmi Holla | Changes made in magic sql|\n",
    "| 2021-05-20 | 0.1 |Lakshmi Holla | Created Initial Version |\n",
    "-->\n"
   ]
  },
  {
   "cell_type": "markdown",
   "id": "c448fc58-de44-4f32-b356-d88cc8ed45fd",
   "metadata": {},
   "source": [
    "## <h3 align=\"center\"> © IBM Corporation 2021. All rights reserved. <h3/>\n"
   ]
  }
 ],
 "metadata": {
  "kernelspec": {
   "display_name": "base",
   "language": "python",
   "name": "python3"
  },
  "language_info": {
   "codemirror_mode": {
    "name": "ipython",
    "version": 3
   },
   "file_extension": ".py",
   "mimetype": "text/x-python",
   "name": "python",
   "nbconvert_exporter": "python",
   "pygments_lexer": "ipython3",
   "version": "3.12.7"
  },
  "prev_pub_hash": "da902c2e8070fbe82a1211fe564834ebcb50f7fc45ad4040b3068861f12c70b8"
 },
 "nbformat": 4,
 "nbformat_minor": 4
}
